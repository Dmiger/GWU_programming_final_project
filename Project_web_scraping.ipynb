{
 "cells": [
  {
   "cell_type": "markdown",
   "metadata": {},
   "source": [
    "## Obtain Data: Web Scraping and Data formatting\n",
    "\n",
    "We scraped apartment data from www.apartment.com for 5 cities in Big D.C. Area, including Washington (D.C.), Arlington (VA), Alexandria (VA), Bethesda (MD) and Silver Spring (MD) then save them as individual csv files for further exploration. (using python, pandas)"
   ]
  },
  {
   "cell_type": "code",
   "execution_count": 3,
   "metadata": {
    "collapsed": true
   },
   "outputs": [],
   "source": [
    "from bs4 import BeautifulSoup as bs\n",
    "import requests\n",
    "import time\n",
    "import csv\n",
    "import pandas as pd\n",
    "import matplotlib.pyplot as plt\n",
    "import numpy as np"
   ]
  },
  {
   "cell_type": "markdown",
   "metadata": {},
   "source": [
    "### Define a new function to get data"
   ]
  },
  {
   "cell_type": "code",
   "execution_count": 20,
   "metadata": {
    "collapsed": true
   },
   "outputs": [],
   "source": [
    "def getData(url):\n",
    "    \"\"\"\n",
    "    Input: Dictionary containing URLs of first result page\n",
    "    Output: Two csv files summarizing the data from results\n",
    "    Returns: Nothing\n",
    "    \"\"\"\n",
    "    \n",
    "    apartments = []\n",
    "    i = 0 # Key to identify restaurants\n",
    "    pages = range(1,29)   # Range of strings to add to URL to go to next result page\n",
    "    #amenities = ['Dogs', 'Cats','AC','Washer-Dryer','Dishwasher','Parking','Gym','Wheelchair']\n",
    "    \n",
    "    \n",
    "    for page in pages:   # Get results one page at a time\n",
    "        time.sleep(0.1)\n",
    "        url1 = url+str(page)+'/'  # URL to search\n",
    "        request = requests.get(url1)\n",
    "        html = request.text\n",
    "        soup = bs(html,\"html.parser\")    \n",
    "        results1 = soup.findAll('article', {\"class\" : \"diamond placard\"})\n",
    "        results2 = soup.findAll('article', {\"class\" : \"platinum placard\"})\n",
    "        results3 = soup.findAll('article', {\"class\" : \"gold placard\"})\n",
    "        results4 = soup.findAll('article', {\"class\" : \"silver placard\"})\n",
    "        results5 = soup.findAll('article', {\"class\" : \"prosumer placard\"})\n",
    "        results6 = soup.findAll('article', {\"class\" : \"basic placard\"})\n",
    "        results = results1 + results2 + results3 + results4 + results5 + results6\n",
    "\n",
    "        for result in results:  \n",
    "            apartments.append({})  \n",
    "            apt_name = result.findAll('a', {\"class\" : \"placardTitle js-placardTitle\"})\n",
    "            apartments[i]['Name'] = apt_name[0].getText()\n",
    "            address = result.findAll('div', {\"class\" : \"location\"})\n",
    "            address = address[0].getText()\n",
    "            splits = address.split(',')\n",
    "            if len(splits) > 2:\n",
    "                apartments[i]['Address'] = splits[0]\n",
    "                apartments[i]['City'] = splits[1]\n",
    "                apartments[i]['State'] = splits[2].split()[0]\n",
    "                apartments[i]['Zip'] = splits[2].split()[1]\n",
    "            else:\n",
    "                apartments[i]['Address'] = apt_name[0].getText()\n",
    "                apartments[i]['City'] = splits[0]\n",
    "                apartments[i]['State'] = splits[1].split()[0]\n",
    "                apartments[i]['Zip'] = splits[1].split()[1]\n",
    "            \n",
    "            last_update = result.findAll('span', {\"class\" : \"listingFreshness\"})\n",
    "            apartments[i]['Last update'] = last_update[0].getText().strip()            \n",
    "            images = result.findAll('span', {\"class\" : \"js-spnImgCount\"})\n",
    "            if len(images) > 0:\n",
    "                apartments[i]['Image count'] = images[0].getText()\n",
    "            else:\n",
    "                apartments[i]['Image count'] = 'Not specified'\n",
    "    \n",
    "            price = result.findAll('span', {\"class\" : \"altRentDisplay\"})\n",
    "            apartments[i]['Rent'] = price[0].getText().replace('$','')\n",
    "            \n",
    "            style = result.findAll('span', {\"class\" : \"unitLabel propertyStyle\"})\n",
    "            if len(style) == 0:\n",
    "                style = result.findAll('span', {\"class\" : \"unitLabel\"})\n",
    "                if 'Studio' in style[0].getText():\n",
    "                    apartments[i]['Style'] = 'Studio'\n",
    "                    if len(style[0].getText().split()) < 2:\n",
    "                        apartments[i]['Num bedrooms'] = 1\n",
    "                    else:\n",
    "                        if '-' in style[0].getText().split()[2]:                  \n",
    "                            apartments[i]['Num bedrooms'] = style[0].getText().split()[2].split('-')[1]\n",
    "                        else:\n",
    "                            apartments[i]['Num bedrooms'] = style[0].getText().split()[2]\n",
    "                else:\n",
    "                    apartments[i]['Style'] = 'Apartment'\n",
    "                    if '-' in style[0].getText():\n",
    "                        apartments[i]['Num bedrooms'] = style[0].getText().split()[0].split('-')[1]\n",
    "                    else:\n",
    "                        apartments[i]['Num bedrooms'] = style[0].getText().split()[0]\n",
    "            else:\n",
    "                apartments[i]['Style'] = style[0].getText()\n",
    "                apartments[i]['Num bedrooms'] = 'N/A'\n",
    "            \n",
    "            if (len(result.findAll('ul', {\"class\" : \"amenities\"}))) > 0:\n",
    "                apartments[i]['Gym'] = {}\n",
    "                apartments[i]['Dogs'] = {}\n",
    "                apartments[i]['Cats'] = {}\n",
    "                apartments[i]['AC'] = {}\n",
    "                apartments[i]['Washer_Dryer'] = {}\n",
    "                apartments[i]['Dishwasher'] = {}\n",
    "                apartments[i]['Parking'] = {}\n",
    "                apartments[i]['Wheelchair'] = {}\n",
    "                dogs = result.findAll('li', {\"class\" : \"petIcon\"})\n",
    "                cats = result.findAll('li', {\"class\" : \"catIcon\"})\n",
    "                ac = result.findAll('li', {\"class\" : \"airConditionerIcon\"})\n",
    "                wd = result.findAll('li', {\"class\" : \"laundryIcon\"})\n",
    "                dw = result.findAll('li', {\"class\" : \"dishWasherIcon\"})\n",
    "                par = result.findAll('li', {\"class\" : \"carIcon\"})\n",
    "                gym = result.findAll('li', {\"class\" : \"fitnessIcon\"})\n",
    "                wc = result.findAll('li', {\"class\" : \"wheelchairIcon\"})   \n",
    "                \n",
    "                \"\"\"\n",
    "                for amenity in amenities:\n",
    "                    if (len(amenities_results[amenity]) > 0) :                   \n",
    "                        apartments[i]['Amenities'][amenity] = True\n",
    "                    else:\n",
    "                        apartments[i]['Amenities'][amenity] = False\n",
    "                \"\"\"\n",
    "                \n",
    "                if (len(dogs) > 0) : \n",
    "                    apartments[i]['Dogs'] = True\n",
    "                else:\n",
    "                    apartments[i]['Dogs'] = False\n",
    "                \n",
    "                if (len(cats) > 0) : \n",
    "                    apartments[i]['Cats'] = True\n",
    "                else:\n",
    "                    apartments[i]['Cats'] = False\n",
    "                \n",
    "                if (len(gym) > 0) : \n",
    "                    apartments[i]['Gym'] = True\n",
    "                else:\n",
    "                    apartments[i]['Gym'] = False\n",
    "                                \n",
    "                if (len(ac) > 0) : \n",
    "                    apartments[i]['AC'] = True\n",
    "                else:\n",
    "                    apartments[i]['AC'] = False\n",
    "                \n",
    "                if (len(wd) > 0) : \n",
    "                    apartments[i]['Washer_Dryer'] = True\n",
    "                else:\n",
    "                    apartments[i]['Washer_Dryer'] = False\n",
    "                        \n",
    "                if (len(dw) > 0) : \n",
    "                    apartments[i]['Dishwasher'] = True\n",
    "                else:\n",
    "                    apartments[i]['Dishwasher'] = False\n",
    "                \n",
    "                if (len(par) > 0) : \n",
    "                    apartments[i]['Parking'] = True\n",
    "                else:\n",
    "                    apartments[i]['Parking'] = False \n",
    "                        \n",
    "                if (len(wc) > 0) : \n",
    "                    apartments[i]['Wheelchair'] = True\n",
    "                else:\n",
    "                    apartments[i]['Wheelchair'] = False            \n",
    "                    \n",
    "            else:\n",
    "                apartments[i]['Gym'] = 'Not listed'\n",
    "                apartments[i]['Dogs'] = 'Not listed'\n",
    "                apartments[i]['Cats'] = 'Not listed'\n",
    "                apartments[i]['AC'] = 'Not listed'\n",
    "                apartments[i]['Washer_Dryer'] = 'Not listed'\n",
    "                apartments[i]['Dishwasher'] = 'Not listed'\n",
    "                apartments[i]['Parking'] = 'Not listed'\n",
    "                apartments[i]['Wheelchair'] = 'Not listed'\n",
    "\n",
    "                \n",
    "            i+=1\n",
    "    return apartments"
   ]
  },
  {
   "cell_type": "markdown",
   "metadata": {},
   "source": [
    "### 5 Cities we are targeting to obtain data"
   ]
  },
  {
   "cell_type": "code",
   "execution_count": 22,
   "metadata": {
    "collapsed": false
   },
   "outputs": [],
   "source": [
    "mydata = getData('http://www.apartments.com/arlington-va/') \n",
    "#mydata = getData('http://www.apartments.com/washington-dc/')\n",
    "#mydata = getData('http://www.apartments.com/arlington-va/')\n",
    "#mydata = getData('http://www.apartments.com/alexandria-va/')\n",
    "#mydata = getData('http://www.apartments.com/bethesda-md/')\n",
    "#mydata = getData('http://www.apartments.com/silver-spring-md/')\n",
    "#print(mydata)"
   ]
  },
  {
   "cell_type": "markdown",
   "metadata": {},
   "source": [
    "### Save the Rent Data of D.C. to csv file"
   ]
  },
  {
   "cell_type": "code",
   "execution_count": 23,
   "metadata": {
    "collapsed": false
   },
   "outputs": [],
   "source": [
    "with open('apartments_arli.csv', 'w', newline = '') as file1:\n",
    "    fieldnames = ['Name','Address','City','State','Zip','Last update','Image count','Num bedrooms','Rent','Style','Dogs','Cats','Wheelchair','Parking','Gym','Washer_Dryer','AC','Dishwasher']\n",
    "    writer = csv.DictWriter(file1, fieldnames=fieldnames)\n",
    "    writer.writeheader()\n",
    "    for i in mydata:\n",
    "        writer.writerow(i)"
   ]
  },
  {
   "cell_type": "code",
   "execution_count": 24,
   "metadata": {
    "collapsed": true
   },
   "outputs": [],
   "source": [
    "#url = 'http://www.apartments.com/washington-dc/'\n",
    "#url = 'http://www.apartments.com/arlington-va/'\n",
    "#url = 'http://www.apartments.com/alexandria-va/'\n",
    "#url = 'http://www.apartments.com/bethesda-md/'\n",
    "#url = 'http://www.apartments.com/silver-spring-md/'"
   ]
  },
  {
   "cell_type": "markdown",
   "metadata": {},
   "source": [
    "### Check the outlook of csv file"
   ]
  },
  {
   "cell_type": "code",
   "execution_count": 41,
   "metadata": {
    "collapsed": false
   },
   "outputs": [
    {
     "name": "stdout",
     "output_type": "stream",
     "text": [
      "|---------------+------------------+------------+-------+-------+-------------+-------------+--------------+---------------+--------+------+------+------------+---------+-------+--------------+-------+-------------|\r\n",
      "|  Name         | Address          | City       | State | Zip   | Last update | Image count | Num bedrooms | Rent          | Style  | Dogs | Cats | Wheelchair | Parking | Gym   | Washer_Dryer | AC    | Dishwasher  |\r\n",
      "|---------------+------------------+------------+-------+-------+-------------+-------------+--------------+---------------+--------+------+------+------------+---------+-------+--------------+-------+-------------|\r\n",
      "|  Parc Rosslyn | 1531 N Pierce St |  Arlington | VA    | 22209 | New         | 68          | 3            | 1,698 - 4,010 | Studio | True | True | False      | False   | False | True         | True  | True        |\r\n",
      "|  RiverHouse   | 1400 S Joyce St  |  Arlington | VA    | 22202 | 5 hrs       | 59          | 3            | 1,314 - 2,908 | Studio | True | True | False      | True    | True  | False        | False | True        |\r\n",
      "|---------------+------------------+------------+-------+-------+-------------+-------------+--------------+---------------+--------+------+------+------------+---------+-------+--------------+-------+-------------|\r\n"
     ]
    }
   ],
   "source": [
    "!csvcut apartments_arli.csv | head -3 | csvlook"
   ]
  },
  {
   "cell_type": "markdown",
   "metadata": {},
   "source": [
    "### Data cleaning and formatting"
   ]
  },
  {
   "cell_type": "markdown",
   "metadata": {},
   "source": [
    "Step1: Select and only keep the upper bound of Rent range for consistency \n",
    "\n",
    "Step2: \"count if\" to create a new column - number of amenities"
   ]
  },
  {
   "cell_type": "code",
   "execution_count": 51,
   "metadata": {
    "collapsed": false
   },
   "outputs": [],
   "source": [
    "import pandas as pd\n",
    "df = pd.read_csv('/home/xinyuan/Desktop/PROGRAMMING_FINAL_PROJECT/apartments_arli.csv', names = None, index_col=False)\n",
    "df1 = pd.DataFrame(df.Rent.str.split('-',1).tolist(), columns = ['Lower Bound','Upper Rent'])\n",
    "df['Rent'] = df1['Upper Rent'] #select and keep the upper bound for analysis - step1\n",
    "\n",
    "Criteria1 = df.Dogs == \"True\"  #following codes are creating number of amenities\n",
    "Criteria2 = df.Cats == \"True\"\n",
    "Criteria3 = df.Wheelchair == \"True\"\n",
    "Criteria4 = df.Gym == \"True\"\n",
    "Criteria5 = df.Washer_Dryer == \"True\"\n",
    "Criteria6 = df.AC == \"True\"\n",
    "Criteria7 = df.Dishwasher == \"True\"\n",
    "Criteria8 = df.Parking == \"True\"\n",
    "\n",
    "criteria_df = pd.concat([Criteria1, Criteria2, Criteria3, Criteria4, Criteria5, Criteria6, Criteria7, Criteria8],axis=1)\n",
    "df['Number of Amenities'] = criteria_df.sum(axis=1)\n",
    "df.to_csv('rentdata_arli.csv', index = False)"
   ]
  },
  {
   "cell_type": "code",
   "execution_count": 52,
   "metadata": {
    "collapsed": false
   },
   "outputs": [
    {
     "name": "stdout",
     "output_type": "stream",
     "text": [
      "|---------------+------------------+------------+-------+-------+-------------+-------------+--------------+--------+--------+------+------+------------+---------+-------+--------------+-------+------------+----------------------|\r\n",
      "|  Name         | Address          | City       | State | Zip   | Last update | Image count | Num bedrooms | Rent   | Style  | Dogs | Cats | Wheelchair | Parking | Gym   | Washer_Dryer | AC    | Dishwasher | Number of Amenities  |\r\n",
      "|---------------+------------------+------------+-------+-------+-------------+-------------+--------------+--------+--------+------+------+------------+---------+-------+--------------+-------+------------+----------------------|\r\n",
      "|  Parc Rosslyn | 1531 N Pierce St |  Arlington | VA    | 22209 | New         | 68          | 3.0          |  4,010 | Studio | True | True | False      | False   | False | True         | True  | True       | 5                    |\r\n",
      "|  RiverHouse   | 1400 S Joyce St  |  Arlington | VA    | 22202 | 5 hrs       | 59          | 3.0          |  2,908 | Studio | True | True | False      | True    | True  | False        | False | True       | 5                    |\r\n",
      "|---------------+------------------+------------+-------+-------+-------------+-------------+--------------+--------+--------+------+------+------------+---------+-------+--------------+-------+------------+----------------------|\r\n"
     ]
    }
   ],
   "source": [
    "!csvcut rentdata_arli.csv | head -3 | csvlook"
   ]
  }
 ],
 "metadata": {
  "anaconda-cloud": {},
  "kernelspec": {
   "display_name": "Python [Root]",
   "language": "python",
   "name": "Python [Root]"
  },
  "language_info": {
   "codemirror_mode": {
    "name": "ipython",
    "version": 3
   },
   "file_extension": ".py",
   "mimetype": "text/x-python",
   "name": "python",
   "nbconvert_exporter": "python",
   "pygments_lexer": "ipython3",
   "version": "3.5.2"
  }
 },
 "nbformat": 4,
 "nbformat_minor": 0
}
